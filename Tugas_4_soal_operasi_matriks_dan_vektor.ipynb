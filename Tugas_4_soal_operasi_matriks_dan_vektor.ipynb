{
  "cells": [
    {
      "cell_type": "markdown",
      "source": [
        "1. Tentukan determinan matriks berikut:\n",
        "A = [[1, 2], [3, 4]]\n",
        "\n"
      ],
      "metadata": {
        "id": "pFkm2OzrzUfV"
      }
    },
    {
      "cell_type": "code",
      "source": [
        "import numpy as np\n",
        "\n",
        "A = np.array([[1, 2], [3, 4]])\n",
        "determinant_A = np.linalg.det(A)\n",
        "\n",
        "print(\"Determinan matriks A:\", determinant_A)\n"
      ],
      "metadata": {
        "id": "exS5JLIEEi7e"
      },
      "execution_count": null,
      "outputs": []
    },
    {
      "cell_type": "markdown",
      "source": [
        "2. Tentukan invers matriks berikut:\n",
        "B = [[10, -22], [3, 45]]"
      ],
      "metadata": {
        "id": "p2AnZW1bEw5g"
      }
    },
    {
      "cell_type": "code",
      "source": [
        "import numpy as np\n",
        "\n",
        "B = np.array([[10, -22], [3, 45]])\n",
        "inverse_B = np.linalg.inv(B)\n",
        "\n",
        "print(\"Invers matriks B:\")\n",
        "print(inverse_B)\n"
      ],
      "metadata": {
        "id": "NTEDycxsE8qw"
      },
      "execution_count": null,
      "outputs": []
    },
    {
      "cell_type": "markdown",
      "source": [
        "3. Tentukan apakah matriks berikut berkondisi buruk:\n",
        "C = [[1, 1e-10], [1e-10, 1]]"
      ],
      "metadata": {
        "id": "GDOwxEV1FDUz"
      }
    },
    {
      "cell_type": "code",
      "source": [
        "import numpy as np\n",
        "\n",
        "C = np.array([[1, 1e-10], [1e-10, 1]])\n",
        "condition_number_C = np.linalg.cond(C)\n",
        "\n",
        "print(\"Kondisi matriks C:\", condition_number_C)\n"
      ],
      "metadata": {
        "id": "PWtzbTD7FXTm"
      },
      "execution_count": null,
      "outputs": []
    },
    {
      "cell_type": "markdown",
      "source": [
        "4. Tentukan apakah sistem persamaan linier berikut memiliki solusi. Jika ada, bagaimana solusinya?\n",
        "A = [1, 2], [3, 4]\n",
        "b = [5, 6]"
      ],
      "metadata": {
        "id": "rfdmBmzmF-_9"
      }
    },
    {
      "cell_type": "code",
      "source": [
        "import numpy as np\n",
        "\n",
        "A = np.array([[1, 2], [3, 4]])\n",
        "b = np.array([5, 6])\n",
        "\n",
        "solution_x = np.linalg.solve(A, b)\n",
        "\n",
        "print(\"Solusi dari sistem persamaan linier:\")\n",
        "print(solution_x)\n"
      ],
      "metadata": {
        "id": "cx7AkHr6GK1v"
      },
      "execution_count": null,
      "outputs": []
    },
    {
      "cell_type": "markdown",
      "source": [
        "5. Tentukan dimensi ruang nol matriks berikut:\n",
        "[[1, 2, 3], [4, 5, 6], [7, 8, 9]]"
      ],
      "metadata": {
        "id": "ETsBAWbgGUih"
      }
    },
    {
      "cell_type": "code",
      "source": [
        "import numpy as np\n",
        "\n",
        "C = np.array([[1, 2, 3], [4, 5, 6], [7, 8, 9]])\n",
        "null_space_dimension_C = np.linalg.matrix_rank(C)\n",
        "\n",
        "print(\"Dimensi ruang nol matriks C:\", C.shape[1] - null_space_dimension_C)\n"
      ],
      "metadata": {
        "id": "kmNEzUP7Gc3C"
      },
      "execution_count": null,
      "outputs": []
    }
  ],
  "metadata": {
    "colab": {
      "private_outputs": true,
      "provenance": []
    },
    "kernelspec": {
      "display_name": "Python 3",
      "name": "python3"
    },
    "language_info": {
      "name": "python"
    }
  },
  "nbformat": 4,
  "nbformat_minor": 0
}